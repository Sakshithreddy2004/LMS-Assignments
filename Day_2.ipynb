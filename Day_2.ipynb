{
  "nbformat": 4,
  "nbformat_minor": 0,
  "metadata": {
    "colab": {
      "provenance": [],
      "authorship_tag": "ABX9TyMu/HWvfjOttrIRvw9wfdf9",
      "include_colab_link": true
    },
    "kernelspec": {
      "name": "python3",
      "display_name": "Python 3"
    },
    "language_info": {
      "name": "python"
    }
  },
  "cells": [
    {
      "cell_type": "markdown",
      "metadata": {
        "id": "view-in-github",
        "colab_type": "text"
      },
      "source": [
        "<a href=\"https://colab.research.google.com/github/Sakshithreddy2004/LMS-Assignments/blob/main/Day_2.ipynb\" target=\"_parent\"><img src=\"https://colab.research.google.com/assets/colab-badge.svg\" alt=\"Open In Colab\"/></a>"
      ]
    },
    {
      "cell_type": "markdown",
      "source": [
        "Create a List, tuple and Dictionary with 5 elements in it and how to access few elements based on the index. Try  with different examples"
      ],
      "metadata": {
        "id": "BbRDk9Cvfzfs"
      }
    },
    {
      "cell_type": "code",
      "execution_count": 1,
      "metadata": {
        "colab": {
          "base_uri": "https://localhost:8080/"
        },
        "id": "_LkPl5SZfwNR",
        "outputId": "5eb24ae4-251c-4da4-8991-3a43549d7655"
      },
      "outputs": [
        {
          "output_type": "stream",
          "name": "stdout",
          "text": [
            "apple\n",
            "cherry\n",
            "elderberry\n"
          ]
        }
      ],
      "source": [
        "## LIST\n",
        "\n",
        "\n",
        "my_list = [\"apple\", \"banana\", \"cherry\", \"date\", \"elderberry\"]\n",
        "\n",
        "\n",
        "print(my_list[0])\n",
        "print(my_list[2])\n",
        "print(my_list[-1])"
      ]
    },
    {
      "cell_type": "code",
      "source": [
        "# Tuple\n",
        "\n",
        "\n",
        "my_tuple = (\"apple\", \"banana\", \"cherry\", \"date\", \"elderberry\")\n",
        "\n",
        "\n",
        "print(my_tuple[0])\n",
        "print(my_tuple[1])\n",
        "print(my_tuple[-2])"
      ],
      "metadata": {
        "colab": {
          "base_uri": "https://localhost:8080/"
        },
        "id": "4Y10PkXTgONe",
        "outputId": "fcb34288-e583-444c-8d68-d0c2e8234bbe"
      },
      "execution_count": 5,
      "outputs": [
        {
          "output_type": "stream",
          "name": "stdout",
          "text": [
            "apple\n",
            "banana\n",
            "date\n"
          ]
        }
      ]
    },
    {
      "cell_type": "code",
      "source": [
        "#  a dictionary with 5 elements\n",
        "my_dict = {\"name\": \"Alice\", \"age\": 30, \"city\": \"New York\", \"country\": \"USA\", \"occupation\": \"Engineer\"}\n",
        "\n",
        "\n",
        "print(my_dict[\"name\"])\n",
        "print(my_dict[\"age\"])"
      ],
      "metadata": {
        "colab": {
          "base_uri": "https://localhost:8080/"
        },
        "id": "moVLeNAjgXTV",
        "outputId": "d3cf4924-179f-4889-a3d9-e2a3db2e0b36"
      },
      "execution_count": 6,
      "outputs": [
        {
          "output_type": "stream",
          "name": "stdout",
          "text": [
            "Alice\n",
            "30\n"
          ]
        }
      ]
    },
    {
      "cell_type": "code",
      "source": [],
      "metadata": {
        "id": "63B6m4htgjWK"
      },
      "execution_count": null,
      "outputs": []
    }
  ]
}