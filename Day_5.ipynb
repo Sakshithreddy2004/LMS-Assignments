{
  "nbformat": 4,
  "nbformat_minor": 0,
  "metadata": {
    "colab": {
      "provenance": [],
      "authorship_tag": "ABX9TyPziDko6Ozp8K3ynoq4hA18",
      "include_colab_link": true
    },
    "kernelspec": {
      "name": "python3",
      "display_name": "Python 3"
    },
    "language_info": {
      "name": "python"
    }
  },
  "cells": [
    {
      "cell_type": "markdown",
      "metadata": {
        "id": "view-in-github",
        "colab_type": "text"
      },
      "source": [
        "<a href=\"https://colab.research.google.com/github/Sakshithreddy2004/LMS-Assignments/blob/main/Day_5.ipynb\" target=\"_parent\"><img src=\"https://colab.research.google.com/assets/colab-badge.svg\" alt=\"Open In Colab\"/></a>"
      ]
    },
    {
      "cell_type": "markdown",
      "source": [
        "1)Write a Python program that performs the following tasks:\n",
        "\n",
        "1. Ask the user to enter a positive integer `n`.\n",
        "2. Use a `for` loop to print all numbers from `1` to `n` on separate lines.\n",
        "3. Use a `while` loop to calculate the sum of all numbers from `1` to `n` and print the result."
      ],
      "metadata": {
        "id": "WR0eTM36hJ9h"
      }
    },
    {
      "cell_type": "code",
      "execution_count": 4,
      "metadata": {
        "colab": {
          "base_uri": "https://localhost:8080/"
        },
        "id": "MYaFC9hqg-T4",
        "outputId": "d7bd3199-8478-4fb7-cdfb-e08208e4a3e9"
      },
      "outputs": [
        {
          "output_type": "stream",
          "name": "stdout",
          "text": [
            "Enter a positive integer: 10\n",
            "Numbers from 1 to 10 :\n",
            "1\n",
            "2\n",
            "3\n",
            "4\n",
            "5\n",
            "6\n",
            "7\n",
            "8\n",
            "9\n",
            "10\n",
            "Sum of numbers from 1 to 10 : 55\n"
          ]
        }
      ],
      "source": [
        "\n",
        "n = int(input(\"Enter a positive integer: \"))\n",
        "\n",
        "\n",
        "print(\"Numbers from 1 to\", n, \":\")\n",
        "for i in range(1, n + 1):\n",
        "    print(i)\n",
        "\n",
        "sum = 0\n",
        "i = 1\n",
        "while i <= n:\n",
        "    sum += i\n",
        "    i += 1\n",
        "\n",
        "\n",
        "print(\"Sum of numbers from 1 to\", n, \":\", sum)"
      ]
    },
    {
      "cell_type": "markdown",
      "source": [
        "2)Write a Python program that includes a user-defined function to perform the following tasks:\n",
        "\n",
        "1. Define a function named calculate_square that takes a single argument `n` and returns the square of `n`.\n",
        "2. In the main program, ask the user to input a positive integer.\n",
        "3. Call the calculate_square function with the user-provided number and display the result.\n"
      ],
      "metadata": {
        "id": "4V8ZF7pJjFqG"
      }
    },
    {
      "cell_type": "code",
      "source": [
        "def calculate_square(n):\n",
        "\n",
        "\n",
        "  return n * n\n",
        "\n",
        "\n",
        "num = int(input(\"Enter a positive integer: \"))\n",
        "\n",
        "\n",
        "square = calculate_square(num)\n",
        "\n",
        "\n",
        "print(\"The square of\", num, \"is:\", square)"
      ],
      "metadata": {
        "id": "TLDmftObhgAA",
        "colab": {
          "base_uri": "https://localhost:8080/"
        },
        "outputId": "d8f1f5cb-9903-4750-a17b-618028c6c12f"
      },
      "execution_count": 5,
      "outputs": [
        {
          "output_type": "stream",
          "name": "stdout",
          "text": [
            "Enter a positive integer: 11\n",
            "The square of 11 is: 121\n"
          ]
        }
      ]
    },
    {
      "cell_type": "code",
      "source": [],
      "metadata": {
        "id": "3uqBIsMUjTor"
      },
      "execution_count": null,
      "outputs": []
    }
  ]
}