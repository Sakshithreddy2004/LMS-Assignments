{
  "nbformat": 4,
  "nbformat_minor": 0,
  "metadata": {
    "colab": {
      "provenance": []
    },
    "kernelspec": {
      "name": "python3",
      "display_name": "Python 3"
    },
    "language_info": {
      "name": "python"
    }
  },
  "cells": [
    {
      "cell_type": "code",
      "execution_count": 1,
      "metadata": {
        "colab": {
          "base_uri": "https://localhost:8080/"
        },
        "id": "vjriH-LheEPu",
        "outputId": "e85628ab-91f3-459b-b952-29fc64a45f69"
      },
      "outputs": [
        {
          "output_type": "stream",
          "name": "stdout",
          "text": [
            "integer_var: 10, Type: <class 'int'>\n",
            "float_var: 3.14, Type: <class 'float'>\n",
            "string_var: Hello, world!, Type: <class 'str'>\n",
            "boolean_var: True, Type: <class 'bool'>\n"
          ]
        }
      ],
      "source": [
        "\n",
        "integer_var = 10\n",
        "\n",
        "float_var = 3.14\n",
        "\n",
        "string_var = \"Hello, world!\"\n",
        "\n",
        "boolean_var = True\n",
        "\n",
        "print(f\"integer_var: {integer_var}, Type: {type(integer_var)}\")\n",
        "print(f\"float_var: {float_var}, Type: {type(float_var)}\")\n",
        "print(f\"string_var: {string_var}, Type: {type(string_var)}\")\n",
        "print(f\"boolean_var: {boolean_var}, Type: {type(boolean_var)}\")"
      ]
    },
    {
      "cell_type": "code",
      "source": [],
      "metadata": {
        "id": "Y3TJdViJeQMy"
      },
      "execution_count": null,
      "outputs": []
    }
  ]
}