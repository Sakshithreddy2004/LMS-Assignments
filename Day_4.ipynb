{
  "nbformat": 4,
  "nbformat_minor": 0,
  "metadata": {
    "colab": {
      "provenance": [],
      "authorship_tag": "ABX9TyO8RrcckGfGBE0s0rSbMxR2",
      "include_colab_link": true
    },
    "kernelspec": {
      "name": "python3",
      "display_name": "Python 3"
    },
    "language_info": {
      "name": "python"
    }
  },
  "cells": [
    {
      "cell_type": "markdown",
      "metadata": {
        "id": "view-in-github",
        "colab_type": "text"
      },
      "source": [
        "<a href=\"https://colab.research.google.com/github/Sakshithreddy2004/LMS-Assignments/blob/main/Day_4.ipynb\" target=\"_parent\"><img src=\"https://colab.research.google.com/assets/colab-badge.svg\" alt=\"Open In Colab\"/></a>"
      ]
    },
    {
      "cell_type": "markdown",
      "source": [
        "Write a Python program to calculate the sum of all even numbers between 1 and a given positive integer n"
      ],
      "metadata": {
        "id": "WR0eTM36hJ9h"
      }
    },
    {
      "cell_type": "code",
      "execution_count": 2,
      "metadata": {
        "colab": {
          "base_uri": "https://localhost:8080/"
        },
        "id": "MYaFC9hqg-T4",
        "outputId": "440e6d55-91d5-4a47-910d-b7af6fb868e0"
      },
      "outputs": [
        {
          "output_type": "stream",
          "name": "stdout",
          "text": [
            "Enter a positive integer: 3\n",
            "The sum of even numbers between 1 and 3 is: 2\n"
          ]
        }
      ],
      "source": [
        "def sum_of_even_numbers(n):\n",
        "\n",
        "\n",
        "  sum = 0\n",
        "  for i in range(2, n + 1, 2):\n",
        "    sum += i\n",
        "  return sum\n",
        "\n",
        "\n",
        "n = int(input(\"Enter a positive integer: \"))\n",
        "\n",
        "\n",
        "sum_even = sum_of_even_numbers(n)\n",
        "\n",
        "print(\"The sum of even numbers between 1 and\", n, \"is:\", sum_even)"
      ]
    },
    {
      "cell_type": "code",
      "source": [],
      "metadata": {
        "id": "TLDmftObhgAA"
      },
      "execution_count": null,
      "outputs": []
    }
  ]
}