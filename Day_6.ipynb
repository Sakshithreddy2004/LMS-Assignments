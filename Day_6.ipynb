{
  "nbformat": 4,
  "nbformat_minor": 0,
  "metadata": {
    "colab": {
      "provenance": [],
      "authorship_tag": "ABX9TyPR+6FmUUXeUHS6DrcOPkv4",
      "include_colab_link": true
    },
    "kernelspec": {
      "name": "python3",
      "display_name": "Python 3"
    },
    "language_info": {
      "name": "python"
    }
  },
  "cells": [
    {
      "cell_type": "markdown",
      "metadata": {
        "id": "view-in-github",
        "colab_type": "text"
      },
      "source": [
        "<a href=\"https://colab.research.google.com/github/Sakshithreddy2004/LMS-Assignments/blob/main/Day_6.ipynb\" target=\"_parent\"><img src=\"https://colab.research.google.com/assets/colab-badge.svg\" alt=\"Open In Colab\"/></a>"
      ]
    },
    {
      "cell_type": "markdown",
      "source": [
        "Using the Pandas library, perform the following tasks:\n",
        "\n",
        "1. Create a DataFrame from the following data:\n",
        "   | Name     | Age | Department   | Salary  |\n",
        "   \n",
        "   |----------|-----\n",
        "   |--------------\n",
        "   |---------|\n",
        "   \n",
        "   | John     | 28  | HR           | 45000   |\n",
        "   \n",
        "   | Alice    | 34  | IT           | 60000   |\n",
        "   \n",
        "   | Bob      | 23  | Marketing    | 35000   |\n",
        "   \n",
        "   | Diana    | 29  | Finance      | 50000   |"
      ],
      "metadata": {
        "id": "WR0eTM36hJ9h"
      }
    },
    {
      "cell_type": "code",
      "execution_count": 6,
      "metadata": {
        "id": "MYaFC9hqg-T4"
      },
      "outputs": [],
      "source": [
        "import pandas as pd"
      ]
    },
    {
      "cell_type": "code",
      "source": [
        "data = {'Name': ['John', 'Alice', 'Bob', 'Diana'],\n",
        "        'Age': [28, 34, 23, 29],\n",
        "        'Department': ['HR', 'IT', 'Marketing', 'Finance'],\n",
        "        'Salary': [45000, 60000, 35000, 50000]}\n",
        "df = pd.DataFrame(data)\n",
        "print(df)"
      ],
      "metadata": {
        "colab": {
          "base_uri": "https://localhost:8080/"
        },
        "id": "gp1nCBcGj-w2",
        "outputId": "a342622b-2d7b-4441-b649-e7ac73de61b8"
      },
      "execution_count": 7,
      "outputs": [
        {
          "output_type": "stream",
          "name": "stdout",
          "text": [
            "    Name  Age Department  Salary\n",
            "0   John   28         HR   45000\n",
            "1  Alice   34         IT   60000\n",
            "2    Bob   23  Marketing   35000\n",
            "3  Diana   29    Finance   50000\n"
          ]
        }
      ]
    },
    {
      "cell_type": "code",
      "source": [],
      "metadata": {
        "id": "TLDmftObhgAA"
      },
      "execution_count": 7,
      "outputs": []
    },
    {
      "cell_type": "markdown",
      "source": [
        "2. Write code to:\n",
        "   - Display the first 2 rows of the DataFrame.\n",
        "   - Add a new column named `Bonus` where the bonus is 10% of the salary.\n",
        "   - Calculate the average salary of employees in the DataFrame.\n",
        "   - Filter and display employees who are older than 25."
      ],
      "metadata": {
        "id": "6-UsQlT5kOES"
      }
    },
    {
      "cell_type": "code",
      "source": [
        "import pandas as pd\n",
        "\n",
        "data = {'Name': ['John', 'Alice', 'Bob', 'Diana'],\n",
        "        'Age': [28, 34, 23, 29],\n",
        "        'Department': ['HR', 'IT', 'Marketing', 'Finance'],\n",
        "        'Salary': [45000, 60000, 35000, 50000]}\n",
        "\n",
        "df = pd.DataFrame(data)\n",
        "\n",
        "\n",
        "print(df.head(2))\n",
        "\n",
        "\n",
        "df['Bonus'] = df['Salary'] * 0.10\n",
        "\n",
        "\n",
        "average_salary = df['Salary'].mean()\n",
        "print(average_salary)\n",
        "\n",
        "\n",
        "filtered_df = df[df['Age'] > 25]\n",
        "print(filtered_df)"
      ],
      "metadata": {
        "colab": {
          "base_uri": "https://localhost:8080/"
        },
        "id": "3uqBIsMUjTor",
        "outputId": "451ac989-4fcc-40b6-b3a0-3da7c46cc402"
      },
      "execution_count": 8,
      "outputs": [
        {
          "output_type": "stream",
          "name": "stdout",
          "text": [
            "    Name  Age Department  Salary\n",
            "0   John   28         HR   45000\n",
            "1  Alice   34         IT   60000\n",
            "47500.0\n",
            "    Name  Age Department  Salary   Bonus\n",
            "0   John   28         HR   45000  4500.0\n",
            "1  Alice   34         IT   60000  6000.0\n",
            "3  Diana   29    Finance   50000  5000.0\n"
          ]
        }
      ]
    },
    {
      "cell_type": "code",
      "source": [],
      "metadata": {
        "id": "GgKwduTEkiJo"
      },
      "execution_count": null,
      "outputs": []
    }
  ]
}