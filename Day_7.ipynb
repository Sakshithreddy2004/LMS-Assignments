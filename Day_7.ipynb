{
  "nbformat": 4,
  "nbformat_minor": 0,
  "metadata": {
    "colab": {
      "provenance": [],
      "authorship_tag": "ABX9TyNQLzOdBmJnDeeZweulCIqw",
      "include_colab_link": true
    },
    "kernelspec": {
      "name": "python3",
      "display_name": "Python 3"
    },
    "language_info": {
      "name": "python"
    }
  },
  "cells": [
    {
      "cell_type": "markdown",
      "metadata": {
        "id": "view-in-github",
        "colab_type": "text"
      },
      "source": [
        "<a href=\"https://colab.research.google.com/github/Sakshithreddy2004/LMS-Assignments/blob/main/Day_7.ipynb\" target=\"_parent\"><img src=\"https://colab.research.google.com/assets/colab-badge.svg\" alt=\"Open In Colab\"/></a>"
      ]
    },
    {
      "cell_type": "markdown",
      "source": [
        "Load and Explore the Data\n",
        "\n",
        "Load the sales_data.csv file using Pandas.\n",
        "\n",
        "Display the first 5 rows of the dataset.\n",
        "\n",
        "Print basic statistics (mean, median, min, max, etc.) of the numerical columns using .describe().\n"
      ],
      "metadata": {
        "id": "WR0eTM36hJ9h"
      }
    },
    {
      "cell_type": "code",
      "execution_count": 2,
      "metadata": {
        "colab": {
          "base_uri": "https://localhost:8080/"
        },
        "id": "MYaFC9hqg-T4",
        "outputId": "c08d28ea-839b-4160-cf66-dcbaa84f3c62"
      },
      "outputs": [
        {
          "output_type": "stream",
          "name": "stdout",
          "text": [
            "Mounted at /content/drive\n"
          ]
        }
      ],
      "source": [
        "from google.colab import drive\n",
        "drive.mount('/content/drive')\n"
      ]
    },
    {
      "cell_type": "code",
      "source": [
        "file_path = '/content/drive/MyDrive/Day_7_sales_data.csv'\n",
        "import pandas as pd\n",
        "\n",
        "df = pd.read_csv(file_path)\n",
        "\n",
        "print(df.head())\n",
        "\n",
        "print(df.describe())"
      ],
      "metadata": {
        "colab": {
          "base_uri": "https://localhost:8080/"
        },
        "id": "gp1nCBcGj-w2",
        "outputId": "e9ff24a3-e707-4d5c-93ae-a0092028732f"
      },
      "execution_count": 3,
      "outputs": [
        {
          "output_type": "stream",
          "name": "stdout",
          "text": [
            "         Date Product Region    Sales  Profit  Quantity\n",
            "0  2023-01-02  Tablet   East  1061.81  236.12         7\n",
            "1  2023-01-06  Laptop  North  1926.07  246.34         8\n",
            "2  2023-01-03  Tablet   East  1597.99  253.17         3\n",
            "3  2023-01-20  Tablet  North  1397.99  242.23         1\n",
            "4  2023-01-04  Laptop   West   734.03  140.36         4\n",
            "             Sales      Profit   Quantity\n",
            "count    20.000000   20.000000  20.000000\n",
            "mean   1186.553000  211.533000   5.050000\n",
            "std     461.528444   66.916251   2.543826\n",
            "min     530.880000   82.160000   1.000000\n",
            "25%     774.517500  166.515000   2.750000\n",
            "50%    1104.865000  214.670000   5.000000\n",
            "75%    1571.080000  248.047500   7.250000\n",
            "max    1954.860000  364.970000   9.000000\n"
          ]
        }
      ]
    },
    {
      "cell_type": "code",
      "source": [],
      "metadata": {
        "id": "TLDmftObhgAA"
      },
      "execution_count": null,
      "outputs": []
    },
    {
      "cell_type": "markdown",
      "source": [
        "Data Analysis\n",
        "Calculate the total sales for each region.\n",
        "Find the most sold product (based on quantity).\n",
        "\n",
        "Compute the average profit margin for each product. (Profit margin = Profit / Sales * 100)\n"
      ],
      "metadata": {
        "id": "6-UsQlT5kOES"
      }
    },
    {
      "cell_type": "code",
      "source": [
        "# Group data by region and sum sales\n",
        "regional_sales = df.groupby('Region')['Sales'].sum()\n",
        "\n",
        "# Display the result\n",
        "print(regional_sales)"
      ],
      "metadata": {
        "colab": {
          "base_uri": "https://localhost:8080/"
        },
        "id": "3uqBIsMUjTor",
        "outputId": "bd40fd2e-d1d3-4dc1-d44a-e0a18c73bcaf"
      },
      "execution_count": 4,
      "outputs": [
        {
          "output_type": "stream",
          "name": "stdout",
          "text": [
            "Region\n",
            "East      5818.93\n",
            "North    10449.68\n",
            "South      936.84\n",
            "West      6525.61\n",
            "Name: Sales, dtype: float64\n"
          ]
        }
      ]
    },
    {
      "cell_type": "code",
      "source": [
        "\n",
        "product_sales = df.groupby('Product')['Quantity'].sum()\n",
        "\n",
        "\n",
        "most_sold_product = product_sales.idxmax()\n",
        "\n",
        "\n",
        "print(f\"The most sold product is: {most_sold_product}\")"
      ],
      "metadata": {
        "id": "GgKwduTEkiJo",
        "colab": {
          "base_uri": "https://localhost:8080/"
        },
        "outputId": "ab0e5ac9-049a-4c84-d5d2-3d7d0e6de338"
      },
      "execution_count": 5,
      "outputs": [
        {
          "output_type": "stream",
          "name": "stdout",
          "text": [
            "The most sold product is: Tablet\n"
          ]
        }
      ]
    },
    {
      "cell_type": "code",
      "source": [
        "\n",
        "df['ProfitMargin'] = (df['Profit'] / df['Sales']) * 100\n",
        "\n",
        "\n",
        "average_profit_margin = df.groupby('Product')['ProfitMargin'].mean()\n",
        "\n",
        "print(average_profit_margin)"
      ],
      "metadata": {
        "colab": {
          "base_uri": "https://localhost:8080/"
        },
        "id": "kPWMY78rrPa8",
        "outputId": "ee292487-d741-47d4-fe86-9e2eb2e125f5"
      },
      "execution_count": 6,
      "outputs": [
        {
          "output_type": "stream",
          "name": "stdout",
          "text": [
            "Product\n",
            "Keyboard      20.080696\n",
            "Laptop        17.112734\n",
            "Monitor       15.134989\n",
            "Smartphone    23.703647\n",
            "Tablet        19.955758\n",
            "Name: ProfitMargin, dtype: float64\n"
          ]
        }
      ]
    },
    {
      "cell_type": "code",
      "source": [],
      "metadata": {
        "id": "eRmxuaHCrVF3"
      },
      "execution_count": null,
      "outputs": []
    }
  ]
}