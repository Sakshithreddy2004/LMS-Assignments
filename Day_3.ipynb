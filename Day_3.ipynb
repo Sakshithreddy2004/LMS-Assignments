{
  "nbformat": 4,
  "nbformat_minor": 0,
  "metadata": {
    "colab": {
      "provenance": [],
      "authorship_tag": "ABX9TyPb36dHFeS0g5S7DEccOuYW",
      "include_colab_link": true
    },
    "kernelspec": {
      "name": "python3",
      "display_name": "Python 3"
    },
    "language_info": {
      "name": "python"
    }
  },
  "cells": [
    {
      "cell_type": "markdown",
      "metadata": {
        "id": "view-in-github",
        "colab_type": "text"
      },
      "source": [
        "<a href=\"https://colab.research.google.com/github/Sakshithreddy2004/LMS-Assignments/blob/main/Day_3.ipynb\" target=\"_parent\"><img src=\"https://colab.research.google.com/assets/colab-badge.svg\" alt=\"Open In Colab\"/></a>"
      ]
    },
    {
      "cell_type": "markdown",
      "source": [
        "Write a Python program that takes a student's marks in three subjects as input.\n",
        "\n",
        "If the average is greater than or equal to 90, print \"Grade: A\".\n",
        "\n",
        "If the average is between 80 and 89, print \"Grade: B\".\n",
        "\n",
        "If the average is between 70 and 79, print \"Grade: C\".\n",
        "\n",
        "Otherwise, print \"Grade: Fail\".\n"
      ],
      "metadata": {
        "id": "WR0eTM36hJ9h"
      }
    },
    {
      "cell_type": "code",
      "execution_count": 1,
      "metadata": {
        "colab": {
          "base_uri": "https://localhost:8080/"
        },
        "id": "MYaFC9hqg-T4",
        "outputId": "0bc89bbf-99dc-421f-9067-a17ae55c80a9"
      },
      "outputs": [
        {
          "output_type": "stream",
          "name": "stdout",
          "text": [
            "Enter marks in subject 1: 34\n",
            "Enter marks in subject 2: 55\n",
            "Enter marks in subject 3: 60\n",
            "Grade: Fail\n"
          ]
        }
      ],
      "source": [
        "\n",
        "subject1 = float(input(\"Enter marks in subject 1: \"))\n",
        "subject2 = float(input(\"Enter marks in subject 2: \"))\n",
        "subject3 = float(input(\"Enter marks in subject 3: \"))\n",
        "\n",
        "# Calculate the average marks\n",
        "average = (subject1 + subject2 + subject3) / 3\n",
        "\n",
        "\n",
        "if average >= 90:\n",
        "    grade = \"A\"\n",
        "elif average >= 80:\n",
        "    grade = \"B\"\n",
        "elif average >= 70:\n",
        "    grade = \"C\"\n",
        "else:\n",
        "    grade = \"Fail\"\n",
        "\n",
        "\n",
        "print(\"Grade:\", grade)"
      ]
    },
    {
      "cell_type": "code",
      "source": [],
      "metadata": {
        "id": "TLDmftObhgAA"
      },
      "execution_count": null,
      "outputs": []
    }
  ]
}